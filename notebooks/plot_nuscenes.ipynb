{
 "cells": [
  {
   "attachments": {},
   "cell_type": "markdown",
   "id": "872bd95b",
   "metadata": {},
   "source": [
    "## Initialization"
   ]
  },
  {
   "cell_type": "code",
   "execution_count": 3,
   "id": "154d0c2a",
   "metadata": {},
   "outputs": [],
   "source": [
    "%matplotlib inline\n",
    "from nuscenes.nuscenes import NuScenes\n",
    "from tqdm import tqdm\n",
    "import numpy as np\n",
    "from matplotlib import pyplot as plt \n",
    "from PIL import Image"
   ]
  },
  {
   "cell_type": "code",
   "execution_count": 4,
   "id": "9f51311c",
   "metadata": {},
   "outputs": [
    {
     "name": "stdout",
     "output_type": "stream",
     "text": [
      "======\n",
      "Loading NuScenes tables for version v1.0-trainval...\n"
     ]
    },
    {
     "name": "stdout",
     "output_type": "stream",
     "text": [
      "23 category,\n",
      "8 attribute,\n",
      "4 visibility,\n",
      "64386 instance,\n",
      "12 sensor,\n",
      "10200 calibrated_sensor,\n",
      "2631083 ego_pose,\n",
      "68 log,\n",
      "850 scene,\n",
      "34149 sample,\n",
      "2631083 sample_data,\n",
      "1166187 sample_annotation,\n",
      "4 map,\n",
      "Done loading in 43.490 seconds.\n",
      "======\n",
      "Reverse indexing ...\n",
      "Done reverse indexing in 8.4 seconds.\n",
      "======\n"
     ]
    }
   ],
   "source": [
    "# generally trainval takes 1 minute to initialize\n",
    "dataroot = '/ocean/projects/cis220039p/cherieho/data/datasets/nuscenes_full'\n",
    "nusc = NuScenes(version='v1.0-trainval', dataroot=dataroot, verbose=True)\n",
    "# nusc.list_scenes()"
   ]
  },
  {
   "attachments": {},
   "cell_type": "markdown",
   "id": "6edbdb41",
   "metadata": {},
   "source": [
    "## Get list of scenes in Nuscenes data object in a given map\n",
    "\n",
    "Based on https://github.com/nutonomy/nuscenes-devkit/blob/66d8f442b9df2631fd793a053b203e3d2d2d1590/python-sdk/nuscenes/map_expansion/map_api.py#L1202 (`render_egoposes_on_fancy_map()`)\n",
    "\n",
    "and `render_egoposes_on_map()` https://github.com/nutonomy/nuscenes-devkit/blob/66d8f442b9df2631fd793a053b203e3d2d2d1590/python-sdk/nuscenes/nuscenes.py#L1783 "
   ]
  },
  {
   "cell_type": "code",
   "execution_count": 5,
   "id": "8b24534c",
   "metadata": {},
   "outputs": [
    {
     "name": "stdout",
     "output_type": "stream",
     "text": [
      "There are 23 logs in singapore-onenorth.\n",
      "There are 183 scenes in singapore-onenorth.\n",
      "Scenes are:  ['scene-0001', 'scene-0002', 'scene-0003', 'scene-0004', 'scene-0005', 'scene-0006', 'scene-0007', 'scene-0008', 'scene-0009', 'scene-0010', 'scene-0011', 'scene-0012', 'scene-0013', 'scene-0014', 'scene-0015', 'scene-0016', 'scene-0017', 'scene-0018', 'scene-0019', 'scene-0020', 'scene-0021', 'scene-0022', 'scene-0023', 'scene-0024', 'scene-0025', 'scene-0026', 'scene-0027', 'scene-0028', 'scene-0029', 'scene-0030', 'scene-0031', 'scene-0032', 'scene-0033', 'scene-0034', 'scene-0035', 'scene-0036', 'scene-0038', 'scene-0039', 'scene-0041', 'scene-0042', 'scene-0043', 'scene-0044', 'scene-0045', 'scene-0046', 'scene-0047', 'scene-0048', 'scene-0049', 'scene-0050', 'scene-0051', 'scene-0052', 'scene-0053', 'scene-0054', 'scene-0055', 'scene-0056', 'scene-0057', 'scene-0058', 'scene-0059', 'scene-0060', 'scene-0061', 'scene-0120', 'scene-0121', 'scene-0122', 'scene-0123', 'scene-0124', 'scene-0125', 'scene-0126', 'scene-0127', 'scene-0128', 'scene-0129', 'scene-0130', 'scene-0131', 'scene-0132', 'scene-0133', 'scene-0134', 'scene-0135', 'scene-0138', 'scene-0139', 'scene-0149', 'scene-0150', 'scene-0151', 'scene-0152', 'scene-0154', 'scene-0155', 'scene-0157', 'scene-0158', 'scene-0159', 'scene-0160', 'scene-0190', 'scene-0191', 'scene-0192', 'scene-0193', 'scene-0194', 'scene-0195', 'scene-0196', 'scene-0221', 'scene-0268', 'scene-0269', 'scene-0270', 'scene-0271', 'scene-0272', 'scene-0273', 'scene-0274', 'scene-0275', 'scene-0276', 'scene-0277', 'scene-0278', 'scene-0344', 'scene-0345', 'scene-0346', 'scene-0347', 'scene-0348', 'scene-0349', 'scene-0350', 'scene-0351', 'scene-0352', 'scene-0353', 'scene-0354', 'scene-0355', 'scene-0356', 'scene-0357', 'scene-0358', 'scene-0359', 'scene-0360', 'scene-0361', 'scene-0362', 'scene-0363', 'scene-0364', 'scene-0365', 'scene-0366', 'scene-0367', 'scene-0368', 'scene-0369', 'scene-0370', 'scene-0371', 'scene-0372', 'scene-0373', 'scene-0374', 'scene-0375', 'scene-0376', 'scene-0377', 'scene-0378', 'scene-0379', 'scene-0380', 'scene-0381', 'scene-0382', 'scene-0383', 'scene-0384', 'scene-0385', 'scene-0386', 'scene-0945', 'scene-0947', 'scene-0949', 'scene-0952', 'scene-0953', 'scene-0955', 'scene-0956', 'scene-0957', 'scene-0958', 'scene-0959', 'scene-0960', 'scene-0961', 'scene-0962', 'scene-0963', 'scene-0966', 'scene-0967', 'scene-0968', 'scene-0969', 'scene-0971', 'scene-0972', 'scene-0975', 'scene-0976', 'scene-0977', 'scene-0978', 'scene-0979', 'scene-0980', 'scene-0981', 'scene-0982', 'scene-0983', 'scene-0984', 'scene-0988', 'scene-0989', 'scene-0990', 'scene-0991']\n"
     ]
    }
   ],
   "source": [
    "# Get list of logs in Nuscenes data object in a given map\n",
    "log_location = 'singapore-onenorth'\n",
    "log_tokens = [log['token'] for log in nusc.log if log['location'] == log_location]\n",
    "print(\"There are {log_nums} logs in {log_loc}.\".format(log_nums=len(log_tokens), log_loc=log_location))\n",
    "\n",
    "# Filter scenes given logs.\n",
    "scene_tokens_location = [e['token'] for e in nusc.scene if e['log_token'] in log_tokens]\n",
    "print(\"There are {scene_nums} scenes in {log_loc}.\".format(scene_nums=len(scene_tokens_location), log_loc=log_location))\n",
    "print(\"Scenes are: \", [e['name'] for e in nusc.scene if e['token'] in scene_tokens_location])\n",
    "\n",
    "\n",
    "# Ids of scenes with a bad match between localization and map.\n",
    "scene_blacklist = [499, 515, 517] # all in boston-seaport"
   ]
  },
  {
   "attachments": {},
   "cell_type": "markdown",
   "id": "6fe9c0c2",
   "metadata": {},
   "source": [
    "## Get ego poses for each scene"
   ]
  },
  {
   "cell_type": "code",
   "execution_count": 10,
   "id": "9d686326",
   "metadata": {},
   "outputs": [
    {
     "name": "stdout",
     "output_type": "stream",
     "text": [
      "Adding ego poses to map...\n"
     ]
    },
    {
     "name": "stderr",
     "output_type": "stream",
     "text": [
      "100%|██████████| 183/183 [00:04<00:00, 39.77it/s] \n"
     ]
    }
   ],
   "source": [
    "map_poselist_dict = {}\n",
    "poselist_dict = {}\n",
    "\n",
    "print('Adding ego poses to map...')\n",
    "for scene_token in tqdm(scene_tokens_location):\n",
    "\n",
    "    # Get records from the database.\n",
    "    scene_record = nusc.get('scene', scene_token)\n",
    "    scene_name = scene_record['name']\n",
    "    scene_id = int(scene_name.replace('scene-', ''))\n",
    "    log_record = nusc.get('log', scene_record['log_token'])\n",
    "    map_record = nusc.get('map', log_record['map_token'])\n",
    "    map_mask = map_record['mask']\n",
    "\n",
    "    # Print a warning if the localization is known to be bad.\n",
    "    if scene_id in scene_blacklist:\n",
    "        print('Warning: %s is known to have a bad fit between ego pose and map.' % scene_name)\n",
    "    \n",
    "    pose_list = []\n",
    "    mappose_list = []\n",
    "\n",
    "\n",
    "    # For each sample in the scene, store the ego pose.\n",
    "    sample_tokens = nusc.field2token('sample', 'scene_token', scene_token)\n",
    "    for sample_token in sample_tokens:\n",
    "        sample_record = nusc.get('sample', sample_token)\n",
    "\n",
    "        # Poses are associated with the sample_data. Here we use the lidar sample_data.\n",
    "        sample_data_record = nusc.get('sample_data', sample_record['data']['LIDAR_TOP'])\n",
    "        pose_record = nusc.get('ego_pose', sample_data_record['ego_pose_token'])\n",
    "#         print(pose_record['translation'])\n",
    "\n",
    "        pose_list.append(pose_record['translation'])\n",
    "        mappose_list.append(np.concatenate(\n",
    "            map_mask.to_pixel_coords(pose_record['translation'][0], pose_record['translation'][1])))\n",
    "    \n",
    "    # Add to dictionary\n",
    "    poselist_dict[scene_token] = np.array(pose_list)\n",
    "    map_poselist_dict[scene_token] = np.array(mappose_list)\n",
    "\n",
    "#         # Calculate the pose on the map and append.\n",
    "#         map_poses.append(np.concatenate(\n",
    "#             map_mask.to_pixel_coords(pose_record['translation'][0], pose_record['translation'][1])))"
   ]
  },
  {
   "cell_type": "code",
   "execution_count": 2,
   "id": "a2be321f",
   "metadata": {},
   "outputs": [],
   "source": [
    "# # Plot based on Nuscenes train val split\n",
    "# from nuscenes.utils.splits import create_splits_scenes\n",
    "# split_scene_list = create_splits_scenes(verbose=False)\n",
    "# train_scene_list = split_scene_list['train']\n",
    "# val_scene_list = split_scene_list['val']\n",
    "# test_scene_list = split_scene_list['test']\n",
    "\n",
    "\n",
    "# # Plot ego poses (each color is 1 scene)\n",
    "# # TODO: split different colors for test\n",
    "# for k, v in poselist_dict.items():\n",
    "#     color = 'black'\n",
    "#     scene_name = nusc.get('scene', k)['name']\n",
    "#     if scene_name in train_scene_list:\n",
    "#         # print(scene_name, 'train')\n",
    "#         color = 'red'\n",
    "#         linewidth = 1\n",
    "#     elif scene_name in val_scene_list:\n",
    "#         # print('val')\n",
    "#         color = 'blue'\n",
    "#         linewidth = 3\n",
    "#     elif scene_name in test_scene_list:\n",
    "#         # print('test')\n",
    "#         color = 'green'\n",
    "#         linewidth = 1\n",
    "    \n",
    "# #     print(v.shape)\n",
    "#     # print(k)\n",
    "#     plt.plot(v[:,0], v[:,1], color=color, linewidth=linewidth)\n",
    "# # plt.legend()\n",
    "\n",
    "\n",
    "# plt.title('Trajectories in {map_location}. \\n Red:Train, Blue:Test'.format(map_location=log_location))\n",
    "# plt.show()\n",
    "\n",
    "\n",
    "# #TODO: plot on map "
   ]
  },
  {
   "cell_type": "code",
   "execution_count": 3,
   "id": "fa7944f4",
   "metadata": {},
   "outputs": [],
   "source": [
    "# from nuscenes.utils.splits import create_splits_scenes\n",
    "# split_scene_list = create_splits_scenes(verbose=False)\n",
    "# print(split_scene_list.keys())"
   ]
  },
  {
   "cell_type": "code",
   "execution_count": 1,
   "id": "c667125c",
   "metadata": {},
   "outputs": [
    {
     "ename": "NameError",
     "evalue": "name 'poselist_dict' is not defined",
     "output_type": "error",
     "traceback": [
      "\u001b[0;31m---------------------------------------------------------------------------\u001b[0m",
      "\u001b[0;31mNameError\u001b[0m                                 Traceback (most recent call last)",
      "Cell \u001b[0;32mIn[1], line 10\u001b[0m\n\u001b[1;32m      8\u001b[0m y_list \u001b[39m=\u001b[39m []\n\u001b[1;32m      9\u001b[0m c_list \u001b[39m=\u001b[39m []\n\u001b[0;32m---> 10\u001b[0m \u001b[39mfor\u001b[39;00m k, v \u001b[39min\u001b[39;00m poselist_dict\u001b[39m.\u001b[39mitems():\n\u001b[1;32m     11\u001b[0m     \u001b[39m# Find if any point in list is within a given distance of test_location_point, use as test\u001b[39;00m\n\u001b[1;32m     12\u001b[0m     distance_list \u001b[39m=\u001b[39m np\u001b[39m.\u001b[39mlinalg\u001b[39m.\u001b[39mnorm(v[:,:\u001b[39m2\u001b[39m] \u001b[39m-\u001b[39m test_location_point, axis\u001b[39m=\u001b[39m\u001b[39m1\u001b[39m)\n\u001b[1;32m     13\u001b[0m     min_distance_ind \u001b[39m=\u001b[39m np\u001b[39m.\u001b[39margmin(distance_list)\n",
      "\u001b[0;31mNameError\u001b[0m: name 'poselist_dict' is not defined"
     ]
    }
   ],
   "source": [
    "# Plot color based on if the scene overlaps with a test location\n",
    "\n",
    "# Find which scenes overlap with test locations from pose_list_dict\n",
    "test_location_point = [400, 1000]\n",
    "# test_location_point = [1000, 750]\n",
    "dist_threshold = 200\n",
    "x_list = []\n",
    "y_list = []\n",
    "c_list = []\n",
    "for k, v in poselist_dict.items():\n",
    "    # Find if any point in list is within a given distance of test_location_point, use as test\n",
    "    distance_list = np.linalg.norm(v[:,:2] - test_location_point, axis=1)\n",
    "    min_distance_ind = np.argmin(distance_list)\n",
    "    min_distance = distance_list[min_distance_ind]\n",
    "    scene_name = nusc.get('scene', k)['name']\n",
    "    \n",
    "    # print(min_distance)\n",
    "    # if scene_name == 'scene-0268':\n",
    "    if min_distance < dist_threshold:\n",
    "        color = 'blue'\n",
    "        linewidth = 3\n",
    "        # print('Scene {scene_name} is {dist}m away.'.format(scene_name=nusc.get('scene', k)['name'], dist_threshold=dist_threshold, dist=min_distance))\n",
    "        # plt.text(v[0,0], v[0,1], nusc.get('scene', k)['name'], fontsize=10)\n",
    "    else:\n",
    "        color = 'red'\n",
    "        linewidth = 0.25\n",
    "    x_list += list(v[:,0])\n",
    "    y_list += list(v[:,1])\n",
    "    c_list += list([min_distance]) * len(v[:,0])\n",
    "    # Plot scene traj\n",
    "    plt.scatter(v[:,0], v[:,1], color=color, s=linewidth)\n",
    "    # Plot where in scene traj is closest to test location \n",
    "    # plt.scatter(v[min_distance_ind,0], v[min_distance_ind,1], color='red', s=20) \n",
    "    # print(\"Closest point on scene traj is: {closest_point}. Distance is {min_distance}.\".format(closest_point=v[min_distance_ind,:2], min_distance=min_distance))\n",
    "    # print(np.linalg.norm(v[min_distance_ind,:2] - test_location_point, axis=0))\n",
    "\n",
    "    # plt.scatter(v[:,0], v[:,1], s=1)\n",
    "# print(x_list)\n",
    "# plt.scatter(x_list, y_list, c=c_list, cmap='rainbow', s=1)\n",
    "\n",
    "\n",
    "# Plot test location and ring\n",
    "plt.scatter(test_location_point[0], test_location_point[1], color='green', s=100)\n",
    "circle1 = plt.Circle((test_location_point[0], test_location_point[1]), dist_threshold, color='green', fill=False, label='Test Location')\n",
    "plt.gca().add_patch(circle1)\n",
    "plt.title('Trajectories in {map_location} within {dist_threshold}m of test location. \\n Red:Train, Blue:Test'.format(map_location=log_location, dist_threshold=dist_threshold))\n",
    "plt.show()\n",
    "        \n",
    "\n",
    "\n"
   ]
  },
  {
   "cell_type": "code",
   "execution_count": 33,
   "metadata": {},
   "outputs": [
    {
     "data": {
      "text/plain": [
       "(40,)"
      ]
     },
     "execution_count": 33,
     "metadata": {},
     "output_type": "execute_result"
    }
   ],
   "source": [
    "np.linalg.norm(v[:,:2] - test_location_point, axis=1).shape"
   ]
  },
  {
   "cell_type": "code",
   "execution_count": 13,
   "id": "f81bc767",
   "metadata": {},
   "outputs": [
    {
     "name": "stdout",
     "output_type": "stream",
     "text": [
      "{'token': '020d7b4f858147558106c504f7f31bef', 'sample_token': 'e93e98b63d3b40209056d129dc53ceee', 'ego_pose_token': '020d7b4f858147558106c504f7f31bef', 'calibrated_sensor_token': '2e64b091b3b146a390c2606b9081343c', 'timestamp': 1531883530412470, 'fileformat': 'jpg', 'is_key_frame': True, 'height': 900, 'width': 1600, 'filename': 'samples/CAM_FRONT/n015-2018-07-18-11-07-57+0800__CAM_FRONT__1531883530412470.jpg', 'prev': '', 'next': 'caa2bfad0b8a4a8090cb0b803352cbc8', 'sensor_modality': 'camera', 'channel': 'CAM_FRONT'}\n",
      "{'token': 'aab35aeccbda42de82b2ff5c278a0d48', 'sample_token': 'e93e98b63d3b40209056d129dc53ceee', 'ego_pose_token': 'aab35aeccbda42de82b2ff5c278a0d48', 'calibrated_sensor_token': '9452428b74ab49d590ae3d239b5aaf92', 'timestamp': 1531883530437525, 'fileformat': 'jpg', 'is_key_frame': True, 'height': 900, 'width': 1600, 'filename': 'samples/CAM_BACK/n015-2018-07-18-11-07-57+0800__CAM_BACK__1531883530437525.jpg', 'prev': '', 'next': '96ae32e59653448c9614b1cee365a3bd', 'sensor_modality': 'camera', 'channel': 'CAM_BACK'}\n"
     ]
    }
   ],
   "source": [
    "print(nusc.get('sample_data', nusc.get('sample', nusc.scene[0]['first_sample_token'])['data']['CAM_FRONT']))\n",
    "print(nusc.get('sample_data', nusc.get('sample', nusc.scene[0]['first_sample_token'])['data']['CAM_BACK']))\n",
    "\n",
    "# nusc.get('sample_data', nusc.scene[0]['first_sample_token']['data']['CAM_FRONT'])"
   ]
  },
  {
   "cell_type": "code",
   "execution_count": null,
   "id": "56cc3ded",
   "metadata": {},
   "outputs": [],
   "source": []
  }
 ],
 "metadata": {
  "kernelspec": {
   "display_name": "Python 3 (ipykernel)",
   "language": "python",
   "name": "python3"
  },
  "language_info": {
   "codemirror_mode": {
    "name": "ipython",
    "version": 3
   },
   "file_extension": ".py",
   "mimetype": "text/x-python",
   "name": "python",
   "nbconvert_exporter": "python",
   "pygments_lexer": "ipython3",
   "version": "3.10.11"
  }
 },
 "nbformat": 4,
 "nbformat_minor": 5
}
